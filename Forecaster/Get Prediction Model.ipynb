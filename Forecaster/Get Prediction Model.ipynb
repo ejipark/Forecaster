{
 "cells": [
  {
   "cell_type": "code",
   "execution_count": 87,
   "id": "42ee0774",
   "metadata": {},
   "outputs": [],
   "source": [
    "import pandas as pd\n",
    "import numpy as np\n",
    "import zipfile\n",
    "from sklearn.model_selection import train_test_split\n",
    "from sklearn.ensemble import RandomForestRegressor, HistGradientBoostingRegressor, StackingRegressor\n",
    "from sklearn.linear_model import RidgeCV, LassoCV, Lasso\n",
    "from sklearn.preprocessing import MinMaxScaler, StandardScaler\n",
    "from sklearn import metrics\n",
    "from sklearn.model_selection import RandomizedSearchCV, GridSearchCV\n",
    "from sklearn.pipeline import Pipeline\n",
    "import joblib\n",
    "import matplotlib.pyplot as plt\n",
    "from sklearn.inspection import permutation_importance"
   ]
  },
  {
   "cell_type": "code",
   "execution_count": 3,
   "id": "c36ab2d3",
   "metadata": {},
   "outputs": [],
   "source": [
    "path = 'data/'"
   ]
  },
  {
   "cell_type": "code",
   "execution_count": 4,
   "id": "0319d542",
   "metadata": {},
   "outputs": [],
   "source": [
    "zf19 = zipfile.ZipFile(f'{path}flights_2019.zip') \n",
    "zf18 = zipfile.ZipFile(f'{path}flights_2018.zip') \n",
    "zf17 = zipfile.ZipFile(f'{path}flights_2017.zip') \n",
    "zf16 = zipfile.ZipFile(f'{path}flights_2016.zip') "
   ]
  },
  {
   "cell_type": "code",
   "execution_count": 5,
   "id": "a95f8766",
   "metadata": {},
   "outputs": [],
   "source": [
    "flights_19 = pd.read_csv(zf19.open('flights_2019.csv'))\n",
    "flights_18 = pd.read_csv(zf18.open('flights_2018.csv'))\n",
    "flights_17 = pd.read_csv(zf17.open('flights_2017.csv'))\n",
    "flights_16 = pd.read_csv(zf16.open('flights_2016.csv'))\n",
    "\n",
    "flights = pd.concat([flights_19, flights_18], ignore_index=False)\n",
    "flights = pd.concat([flights, flights_17], ignore_index=False)\n",
    "flights = pd.concat([flights, flights_16], ignore_index=False)"
   ]
  },
  {
   "cell_type": "code",
   "execution_count": 6,
   "id": "afbed99b",
   "metadata": {},
   "outputs": [
    {
     "data": {
      "text/plain": [
       "(8420999, 20)"
      ]
     },
     "execution_count": 6,
     "metadata": {},
     "output_type": "execute_result"
    }
   ],
   "source": [
    "flights.shape"
   ]
  },
  {
   "cell_type": "code",
   "execution_count": 7,
   "id": "bebf49b5",
   "metadata": {},
   "outputs": [],
   "source": [
    "flights = flights.iloc[:,1:]"
   ]
  },
  {
   "cell_type": "code",
   "execution_count": 8,
   "id": "1e6f7b9d",
   "metadata": {},
   "outputs": [
    {
     "data": {
      "text/html": [
       "<div>\n",
       "<style scoped>\n",
       "    .dataframe tbody tr th:only-of-type {\n",
       "        vertical-align: middle;\n",
       "    }\n",
       "\n",
       "    .dataframe tbody tr th {\n",
       "        vertical-align: top;\n",
       "    }\n",
       "\n",
       "    .dataframe thead th {\n",
       "        text-align: right;\n",
       "    }\n",
       "</style>\n",
       "<table border=\"1\" class=\"dataframe\">\n",
       "  <thead>\n",
       "    <tr style=\"text-align: right;\">\n",
       "      <th></th>\n",
       "      <th>year</th>\n",
       "      <th>month</th>\n",
       "      <th>day</th>\n",
       "      <th>dep_time</th>\n",
       "      <th>sched_dep_time</th>\n",
       "      <th>dep_delay</th>\n",
       "      <th>arr_time</th>\n",
       "      <th>sched_arr_time</th>\n",
       "      <th>arr_delay</th>\n",
       "      <th>carrier</th>\n",
       "      <th>flight</th>\n",
       "      <th>tailnum</th>\n",
       "      <th>origin</th>\n",
       "      <th>dest</th>\n",
       "      <th>air_time</th>\n",
       "      <th>distance</th>\n",
       "      <th>hour</th>\n",
       "      <th>minute</th>\n",
       "      <th>time_hour</th>\n",
       "    </tr>\n",
       "  </thead>\n",
       "  <tbody>\n",
       "    <tr>\n",
       "      <th>0</th>\n",
       "      <td>2019</td>\n",
       "      <td>1</td>\n",
       "      <td>1</td>\n",
       "      <td>1.0</td>\n",
       "      <td>2359</td>\n",
       "      <td>2.0</td>\n",
       "      <td>50.0</td>\n",
       "      <td>41</td>\n",
       "      <td>9.0</td>\n",
       "      <td>OH</td>\n",
       "      <td>4452</td>\n",
       "      <td>N720PS</td>\n",
       "      <td>CLT</td>\n",
       "      <td>FAY</td>\n",
       "      <td>27.0</td>\n",
       "      <td>118</td>\n",
       "      <td>23</td>\n",
       "      <td>59</td>\n",
       "      <td>2019-01-01 23:00:00</td>\n",
       "    </tr>\n",
       "    <tr>\n",
       "      <th>1</th>\n",
       "      <td>2019</td>\n",
       "      <td>1</td>\n",
       "      <td>1</td>\n",
       "      <td>2.0</td>\n",
       "      <td>2359</td>\n",
       "      <td>3.0</td>\n",
       "      <td>543.0</td>\n",
       "      <td>549</td>\n",
       "      <td>-6.0</td>\n",
       "      <td>UA</td>\n",
       "      <td>2304</td>\n",
       "      <td>N75858</td>\n",
       "      <td>LAX</td>\n",
       "      <td>ORD</td>\n",
       "      <td>197.0</td>\n",
       "      <td>1744</td>\n",
       "      <td>23</td>\n",
       "      <td>59</td>\n",
       "      <td>2019-01-01 23:00:00</td>\n",
       "    </tr>\n",
       "    <tr>\n",
       "      <th>2</th>\n",
       "      <td>2019</td>\n",
       "      <td>1</td>\n",
       "      <td>1</td>\n",
       "      <td>3.0</td>\n",
       "      <td>2359</td>\n",
       "      <td>4.0</td>\n",
       "      <td>504.0</td>\n",
       "      <td>459</td>\n",
       "      <td>5.0</td>\n",
       "      <td>AA</td>\n",
       "      <td>2317</td>\n",
       "      <td>N928AM</td>\n",
       "      <td>LAX</td>\n",
       "      <td>DFW</td>\n",
       "      <td>148.0</td>\n",
       "      <td>1235</td>\n",
       "      <td>23</td>\n",
       "      <td>59</td>\n",
       "      <td>2019-01-01 23:00:00</td>\n",
       "    </tr>\n",
       "    <tr>\n",
       "      <th>3</th>\n",
       "      <td>2019</td>\n",
       "      <td>1</td>\n",
       "      <td>1</td>\n",
       "      <td>3.0</td>\n",
       "      <td>2214</td>\n",
       "      <td>109.0</td>\n",
       "      <td>150.0</td>\n",
       "      <td>1</td>\n",
       "      <td>109.0</td>\n",
       "      <td>AA</td>\n",
       "      <td>2023</td>\n",
       "      <td>N196UW</td>\n",
       "      <td>CLT</td>\n",
       "      <td>PBI</td>\n",
       "      <td>86.0</td>\n",
       "      <td>590</td>\n",
       "      <td>22</td>\n",
       "      <td>14</td>\n",
       "      <td>2019-01-01 22:00:00</td>\n",
       "    </tr>\n",
       "    <tr>\n",
       "      <th>4</th>\n",
       "      <td>2019</td>\n",
       "      <td>1</td>\n",
       "      <td>1</td>\n",
       "      <td>3.0</td>\n",
       "      <td>2359</td>\n",
       "      <td>4.0</td>\n",
       "      <td>809.0</td>\n",
       "      <td>822</td>\n",
       "      <td>-13.0</td>\n",
       "      <td>UA</td>\n",
       "      <td>364</td>\n",
       "      <td>N894UA</td>\n",
       "      <td>SFO</td>\n",
       "      <td>PHL</td>\n",
       "      <td>285.0</td>\n",
       "      <td>2521</td>\n",
       "      <td>23</td>\n",
       "      <td>59</td>\n",
       "      <td>2019-01-01 23:00:00</td>\n",
       "    </tr>\n",
       "  </tbody>\n",
       "</table>\n",
       "</div>"
      ],
      "text/plain": [
       "   year  month  day  dep_time  sched_dep_time  dep_delay  arr_time  \\\n",
       "0  2019      1    1       1.0            2359        2.0      50.0   \n",
       "1  2019      1    1       2.0            2359        3.0     543.0   \n",
       "2  2019      1    1       3.0            2359        4.0     504.0   \n",
       "3  2019      1    1       3.0            2214      109.0     150.0   \n",
       "4  2019      1    1       3.0            2359        4.0     809.0   \n",
       "\n",
       "   sched_arr_time  arr_delay carrier  flight tailnum origin dest  air_time  \\\n",
       "0              41        9.0      OH    4452  N720PS    CLT  FAY      27.0   \n",
       "1             549       -6.0      UA    2304  N75858    LAX  ORD     197.0   \n",
       "2             459        5.0      AA    2317  N928AM    LAX  DFW     148.0   \n",
       "3               1      109.0      AA    2023  N196UW    CLT  PBI      86.0   \n",
       "4             822      -13.0      UA     364  N894UA    SFO  PHL     285.0   \n",
       "\n",
       "   distance  hour  minute            time_hour  \n",
       "0       118    23      59  2019-01-01 23:00:00  \n",
       "1      1744    23      59  2019-01-01 23:00:00  \n",
       "2      1235    23      59  2019-01-01 23:00:00  \n",
       "3       590    22      14  2019-01-01 22:00:00  \n",
       "4      2521    23      59  2019-01-01 23:00:00  "
      ]
     },
     "execution_count": 8,
     "metadata": {},
     "output_type": "execute_result"
    }
   ],
   "source": [
    "flights.head()"
   ]
  },
  {
   "cell_type": "code",
   "execution_count": 9,
   "id": "305ac7d3",
   "metadata": {},
   "outputs": [],
   "source": [
    "f_cols = ['year', 'month', 'day', 'dep_delay','origin', 'hour', 'time_hour']"
   ]
  },
  {
   "cell_type": "code",
   "execution_count": 10,
   "id": "651d0086",
   "metadata": {},
   "outputs": [],
   "source": [
    "flights = flights.loc[:,f_cols]"
   ]
  },
  {
   "cell_type": "code",
   "execution_count": 11,
   "id": "cc635772",
   "metadata": {},
   "outputs": [],
   "source": [
    "flights = flights.rename(columns={'hour':'sched_dep_hour'})"
   ]
  },
  {
   "cell_type": "code",
   "execution_count": 12,
   "id": "2abbb44b",
   "metadata": {},
   "outputs": [
    {
     "data": {
      "text/html": [
       "<div>\n",
       "<style scoped>\n",
       "    .dataframe tbody tr th:only-of-type {\n",
       "        vertical-align: middle;\n",
       "    }\n",
       "\n",
       "    .dataframe tbody tr th {\n",
       "        vertical-align: top;\n",
       "    }\n",
       "\n",
       "    .dataframe thead th {\n",
       "        text-align: right;\n",
       "    }\n",
       "</style>\n",
       "<table border=\"1\" class=\"dataframe\">\n",
       "  <thead>\n",
       "    <tr style=\"text-align: right;\">\n",
       "      <th></th>\n",
       "      <th>year</th>\n",
       "      <th>month</th>\n",
       "      <th>day</th>\n",
       "      <th>dep_delay</th>\n",
       "      <th>origin</th>\n",
       "      <th>sched_dep_hour</th>\n",
       "      <th>time_hour</th>\n",
       "    </tr>\n",
       "  </thead>\n",
       "  <tbody>\n",
       "    <tr>\n",
       "      <th>0</th>\n",
       "      <td>2019</td>\n",
       "      <td>1</td>\n",
       "      <td>1</td>\n",
       "      <td>2.0</td>\n",
       "      <td>CLT</td>\n",
       "      <td>23</td>\n",
       "      <td>2019-01-01 23:00:00</td>\n",
       "    </tr>\n",
       "    <tr>\n",
       "      <th>1</th>\n",
       "      <td>2019</td>\n",
       "      <td>1</td>\n",
       "      <td>1</td>\n",
       "      <td>3.0</td>\n",
       "      <td>LAX</td>\n",
       "      <td>23</td>\n",
       "      <td>2019-01-01 23:00:00</td>\n",
       "    </tr>\n",
       "    <tr>\n",
       "      <th>2</th>\n",
       "      <td>2019</td>\n",
       "      <td>1</td>\n",
       "      <td>1</td>\n",
       "      <td>4.0</td>\n",
       "      <td>LAX</td>\n",
       "      <td>23</td>\n",
       "      <td>2019-01-01 23:00:00</td>\n",
       "    </tr>\n",
       "    <tr>\n",
       "      <th>3</th>\n",
       "      <td>2019</td>\n",
       "      <td>1</td>\n",
       "      <td>1</td>\n",
       "      <td>109.0</td>\n",
       "      <td>CLT</td>\n",
       "      <td>22</td>\n",
       "      <td>2019-01-01 22:00:00</td>\n",
       "    </tr>\n",
       "    <tr>\n",
       "      <th>4</th>\n",
       "      <td>2019</td>\n",
       "      <td>1</td>\n",
       "      <td>1</td>\n",
       "      <td>4.0</td>\n",
       "      <td>SFO</td>\n",
       "      <td>23</td>\n",
       "      <td>2019-01-01 23:00:00</td>\n",
       "    </tr>\n",
       "  </tbody>\n",
       "</table>\n",
       "</div>"
      ],
      "text/plain": [
       "   year  month  day  dep_delay origin  sched_dep_hour            time_hour\n",
       "0  2019      1    1        2.0    CLT              23  2019-01-01 23:00:00\n",
       "1  2019      1    1        3.0    LAX              23  2019-01-01 23:00:00\n",
       "2  2019      1    1        4.0    LAX              23  2019-01-01 23:00:00\n",
       "3  2019      1    1      109.0    CLT              22  2019-01-01 22:00:00\n",
       "4  2019      1    1        4.0    SFO              23  2019-01-01 23:00:00"
      ]
     },
     "execution_count": 12,
     "metadata": {},
     "output_type": "execute_result"
    }
   ],
   "source": [
    "flights.head()"
   ]
  },
  {
   "cell_type": "code",
   "execution_count": 13,
   "id": "f89157d0",
   "metadata": {},
   "outputs": [],
   "source": [
    "weather = pd.read_csv(f'{path}weather.csv')"
   ]
  },
  {
   "cell_type": "code",
   "execution_count": 14,
   "id": "db4c4476",
   "metadata": {},
   "outputs": [
    {
     "data": {
      "text/html": [
       "<div>\n",
       "<style scoped>\n",
       "    .dataframe tbody tr th:only-of-type {\n",
       "        vertical-align: middle;\n",
       "    }\n",
       "\n",
       "    .dataframe tbody tr th {\n",
       "        vertical-align: top;\n",
       "    }\n",
       "\n",
       "    .dataframe thead th {\n",
       "        text-align: right;\n",
       "    }\n",
       "</style>\n",
       "<table border=\"1\" class=\"dataframe\">\n",
       "  <thead>\n",
       "    <tr style=\"text-align: right;\">\n",
       "      <th></th>\n",
       "      <th>Unnamed: 0</th>\n",
       "      <th>origin</th>\n",
       "      <th>year</th>\n",
       "      <th>month</th>\n",
       "      <th>day</th>\n",
       "      <th>hour</th>\n",
       "      <th>precip</th>\n",
       "      <th>temp</th>\n",
       "      <th>dewp</th>\n",
       "      <th>relh</th>\n",
       "      <th>wind_dir</th>\n",
       "      <th>wind_speed</th>\n",
       "      <th>alti</th>\n",
       "      <th>pressure</th>\n",
       "      <th>visib</th>\n",
       "    </tr>\n",
       "  </thead>\n",
       "  <tbody>\n",
       "    <tr>\n",
       "      <th>0</th>\n",
       "      <td>0</td>\n",
       "      <td>ATL</td>\n",
       "      <td>2016</td>\n",
       "      <td>1</td>\n",
       "      <td>1</td>\n",
       "      <td>0</td>\n",
       "      <td>0.0</td>\n",
       "      <td>44.96</td>\n",
       "      <td>37.94</td>\n",
       "      <td>76.25</td>\n",
       "      <td>300.0</td>\n",
       "      <td>13.0</td>\n",
       "      <td>30.16</td>\n",
       "      <td>1021.4</td>\n",
       "      <td>10.0</td>\n",
       "    </tr>\n",
       "    <tr>\n",
       "      <th>1</th>\n",
       "      <td>1</td>\n",
       "      <td>ATL</td>\n",
       "      <td>2016</td>\n",
       "      <td>1</td>\n",
       "      <td>1</td>\n",
       "      <td>1</td>\n",
       "      <td>0.0</td>\n",
       "      <td>42.98</td>\n",
       "      <td>37.04</td>\n",
       "      <td>79.38</td>\n",
       "      <td>320.0</td>\n",
       "      <td>12.0</td>\n",
       "      <td>30.15</td>\n",
       "      <td>1021.1</td>\n",
       "      <td>10.0</td>\n",
       "    </tr>\n",
       "    <tr>\n",
       "      <th>2</th>\n",
       "      <td>2</td>\n",
       "      <td>ATL</td>\n",
       "      <td>2016</td>\n",
       "      <td>1</td>\n",
       "      <td>1</td>\n",
       "      <td>2</td>\n",
       "      <td>0.0</td>\n",
       "      <td>42.08</td>\n",
       "      <td>35.96</td>\n",
       "      <td>78.74</td>\n",
       "      <td>320.0</td>\n",
       "      <td>12.0</td>\n",
       "      <td>30.15</td>\n",
       "      <td>1021.1</td>\n",
       "      <td>10.0</td>\n",
       "    </tr>\n",
       "    <tr>\n",
       "      <th>3</th>\n",
       "      <td>3</td>\n",
       "      <td>ATL</td>\n",
       "      <td>2016</td>\n",
       "      <td>1</td>\n",
       "      <td>1</td>\n",
       "      <td>3</td>\n",
       "      <td>0.0</td>\n",
       "      <td>42.08</td>\n",
       "      <td>35.06</td>\n",
       "      <td>75.98</td>\n",
       "      <td>320.0</td>\n",
       "      <td>11.0</td>\n",
       "      <td>30.15</td>\n",
       "      <td>1020.9</td>\n",
       "      <td>10.0</td>\n",
       "    </tr>\n",
       "    <tr>\n",
       "      <th>4</th>\n",
       "      <td>4</td>\n",
       "      <td>ATL</td>\n",
       "      <td>2016</td>\n",
       "      <td>1</td>\n",
       "      <td>1</td>\n",
       "      <td>4</td>\n",
       "      <td>0.0</td>\n",
       "      <td>41.00</td>\n",
       "      <td>35.06</td>\n",
       "      <td>79.21</td>\n",
       "      <td>330.0</td>\n",
       "      <td>13.0</td>\n",
       "      <td>30.15</td>\n",
       "      <td>1021.1</td>\n",
       "      <td>10.0</td>\n",
       "    </tr>\n",
       "  </tbody>\n",
       "</table>\n",
       "</div>"
      ],
      "text/plain": [
       "   Unnamed: 0 origin  year  month  day  hour  precip   temp   dewp   relh  \\\n",
       "0           0    ATL  2016      1    1     0     0.0  44.96  37.94  76.25   \n",
       "1           1    ATL  2016      1    1     1     0.0  42.98  37.04  79.38   \n",
       "2           2    ATL  2016      1    1     2     0.0  42.08  35.96  78.74   \n",
       "3           3    ATL  2016      1    1     3     0.0  42.08  35.06  75.98   \n",
       "4           4    ATL  2016      1    1     4     0.0  41.00  35.06  79.21   \n",
       "\n",
       "   wind_dir  wind_speed   alti  pressure  visib  \n",
       "0     300.0        13.0  30.16    1021.4   10.0  \n",
       "1     320.0        12.0  30.15    1021.1   10.0  \n",
       "2     320.0        12.0  30.15    1021.1   10.0  \n",
       "3     320.0        11.0  30.15    1020.9   10.0  \n",
       "4     330.0        13.0  30.15    1021.1   10.0  "
      ]
     },
     "execution_count": 14,
     "metadata": {},
     "output_type": "execute_result"
    }
   ],
   "source": [
    "weather.head()"
   ]
  },
  {
   "cell_type": "code",
   "execution_count": 15,
   "id": "e001cc31",
   "metadata": {},
   "outputs": [],
   "source": [
    "weather = weather.iloc[:,1:]"
   ]
  },
  {
   "cell_type": "code",
   "execution_count": 16,
   "id": "f8b88205",
   "metadata": {},
   "outputs": [
    {
     "data": {
      "text/html": [
       "<div>\n",
       "<style scoped>\n",
       "    .dataframe tbody tr th:only-of-type {\n",
       "        vertical-align: middle;\n",
       "    }\n",
       "\n",
       "    .dataframe tbody tr th {\n",
       "        vertical-align: top;\n",
       "    }\n",
       "\n",
       "    .dataframe thead th {\n",
       "        text-align: right;\n",
       "    }\n",
       "</style>\n",
       "<table border=\"1\" class=\"dataframe\">\n",
       "  <thead>\n",
       "    <tr style=\"text-align: right;\">\n",
       "      <th></th>\n",
       "      <th>origin</th>\n",
       "      <th>year</th>\n",
       "      <th>month</th>\n",
       "      <th>day</th>\n",
       "      <th>hour</th>\n",
       "      <th>precip</th>\n",
       "      <th>temp</th>\n",
       "      <th>dewp</th>\n",
       "      <th>relh</th>\n",
       "      <th>wind_dir</th>\n",
       "      <th>wind_speed</th>\n",
       "      <th>alti</th>\n",
       "      <th>pressure</th>\n",
       "      <th>visib</th>\n",
       "    </tr>\n",
       "  </thead>\n",
       "  <tbody>\n",
       "    <tr>\n",
       "      <th>0</th>\n",
       "      <td>ATL</td>\n",
       "      <td>2016</td>\n",
       "      <td>1</td>\n",
       "      <td>1</td>\n",
       "      <td>0</td>\n",
       "      <td>0.0</td>\n",
       "      <td>44.96</td>\n",
       "      <td>37.94</td>\n",
       "      <td>76.25</td>\n",
       "      <td>300.0</td>\n",
       "      <td>13.0</td>\n",
       "      <td>30.16</td>\n",
       "      <td>1021.4</td>\n",
       "      <td>10.0</td>\n",
       "    </tr>\n",
       "    <tr>\n",
       "      <th>1</th>\n",
       "      <td>ATL</td>\n",
       "      <td>2016</td>\n",
       "      <td>1</td>\n",
       "      <td>1</td>\n",
       "      <td>1</td>\n",
       "      <td>0.0</td>\n",
       "      <td>42.98</td>\n",
       "      <td>37.04</td>\n",
       "      <td>79.38</td>\n",
       "      <td>320.0</td>\n",
       "      <td>12.0</td>\n",
       "      <td>30.15</td>\n",
       "      <td>1021.1</td>\n",
       "      <td>10.0</td>\n",
       "    </tr>\n",
       "    <tr>\n",
       "      <th>2</th>\n",
       "      <td>ATL</td>\n",
       "      <td>2016</td>\n",
       "      <td>1</td>\n",
       "      <td>1</td>\n",
       "      <td>2</td>\n",
       "      <td>0.0</td>\n",
       "      <td>42.08</td>\n",
       "      <td>35.96</td>\n",
       "      <td>78.74</td>\n",
       "      <td>320.0</td>\n",
       "      <td>12.0</td>\n",
       "      <td>30.15</td>\n",
       "      <td>1021.1</td>\n",
       "      <td>10.0</td>\n",
       "    </tr>\n",
       "    <tr>\n",
       "      <th>3</th>\n",
       "      <td>ATL</td>\n",
       "      <td>2016</td>\n",
       "      <td>1</td>\n",
       "      <td>1</td>\n",
       "      <td>3</td>\n",
       "      <td>0.0</td>\n",
       "      <td>42.08</td>\n",
       "      <td>35.06</td>\n",
       "      <td>75.98</td>\n",
       "      <td>320.0</td>\n",
       "      <td>11.0</td>\n",
       "      <td>30.15</td>\n",
       "      <td>1020.9</td>\n",
       "      <td>10.0</td>\n",
       "    </tr>\n",
       "    <tr>\n",
       "      <th>4</th>\n",
       "      <td>ATL</td>\n",
       "      <td>2016</td>\n",
       "      <td>1</td>\n",
       "      <td>1</td>\n",
       "      <td>4</td>\n",
       "      <td>0.0</td>\n",
       "      <td>41.00</td>\n",
       "      <td>35.06</td>\n",
       "      <td>79.21</td>\n",
       "      <td>330.0</td>\n",
       "      <td>13.0</td>\n",
       "      <td>30.15</td>\n",
       "      <td>1021.1</td>\n",
       "      <td>10.0</td>\n",
       "    </tr>\n",
       "  </tbody>\n",
       "</table>\n",
       "</div>"
      ],
      "text/plain": [
       "  origin  year  month  day  hour  precip   temp   dewp   relh  wind_dir  \\\n",
       "0    ATL  2016      1    1     0     0.0  44.96  37.94  76.25     300.0   \n",
       "1    ATL  2016      1    1     1     0.0  42.98  37.04  79.38     320.0   \n",
       "2    ATL  2016      1    1     2     0.0  42.08  35.96  78.74     320.0   \n",
       "3    ATL  2016      1    1     3     0.0  42.08  35.06  75.98     320.0   \n",
       "4    ATL  2016      1    1     4     0.0  41.00  35.06  79.21     330.0   \n",
       "\n",
       "   wind_speed   alti  pressure  visib  \n",
       "0        13.0  30.16    1021.4   10.0  \n",
       "1        12.0  30.15    1021.1   10.0  \n",
       "2        12.0  30.15    1021.1   10.0  \n",
       "3        11.0  30.15    1020.9   10.0  \n",
       "4        13.0  30.15    1021.1   10.0  "
      ]
     },
     "execution_count": 16,
     "metadata": {},
     "output_type": "execute_result"
    }
   ],
   "source": [
    "weather.head()"
   ]
  },
  {
   "cell_type": "code",
   "execution_count": 17,
   "id": "69ef0c79",
   "metadata": {},
   "outputs": [],
   "source": [
    "airlines = pd.read_csv(f'{path}airlines.csv')"
   ]
  },
  {
   "cell_type": "code",
   "execution_count": 18,
   "id": "2821071e",
   "metadata": {},
   "outputs": [
    {
     "data": {
      "text/plain": [
       "(1712, 2)"
      ]
     },
     "execution_count": 18,
     "metadata": {},
     "output_type": "execute_result"
    }
   ],
   "source": [
    "airlines.shape"
   ]
  },
  {
   "cell_type": "code",
   "execution_count": 19,
   "id": "5b512e4c",
   "metadata": {},
   "outputs": [],
   "source": [
    "airports = pd.read_csv(f'{path}airports.csv')"
   ]
  },
  {
   "cell_type": "code",
   "execution_count": 20,
   "id": "981b6561",
   "metadata": {},
   "outputs": [],
   "source": [
    "key_airports = airports[airports.faa.isin(['ATL', 'LAX', 'ORD', 'DFW', 'DEN', 'JFK', 'SFO', 'LAS', 'SEA', 'CLT'])]\n",
    "key_airports = key_airports.set_index('faa').to_dict('index')"
   ]
  },
  {
   "cell_type": "markdown",
   "id": "e5e0ee4f",
   "metadata": {},
   "source": [
    "joblib.dump(key_airports,'test pilot/test_app/artifacts/key_airports.pkl')"
   ]
  },
  {
   "cell_type": "code",
   "execution_count": 21,
   "id": "78b930c0",
   "metadata": {},
   "outputs": [],
   "source": [
    "df = pd.merge(flights, weather, how='inner', left_on=['origin','year','month','day','sched_dep_hour'], right_on = ['origin','year','month','day','hour'])\n",
    "\n",
    "df['delayed'] = np.where(df['dep_delay'] >= 15, 1, 0)\n",
    "\n",
    "df.drop('dep_delay', axis=1, inplace=True)\n",
    "\n",
    "df['time_hour'] = pd.to_datetime(df['time_hour'])\n",
    "df['day_of_week'] = df['time_hour'].dt.day_name()\n",
    "df['month'] = df['time_hour'].dt.month_name()\n",
    "\n",
    "df = df.groupby(['year', 'month', 'day_of_week', 'origin']).agg(\n",
    "    {'precip':['mean'], 'temp':['mean'], 'dewp':['mean'], 'relh':['mean'], 'wind_dir':['mean'], 'wind_speed':['mean'], 'pressure':['mean'], \\\n",
    "    'visib':['mean'], 'delayed':['sum','count']}\n",
    ")\n",
    "\n",
    "df.reset_index(inplace=True)\n",
    "\n",
    "df['delay_rate'] = df.iloc[:,-2]/df.iloc[:,-1]\n",
    "\n",
    "df.columns = df.columns.droplevel(1)\n",
    "df = df.rename_axis(None, axis=1)\n",
    "\n",
    "df.drop(['delayed', 'year'], axis=1, inplace=True)\n",
    "\n",
    "df = df[['day_of_week'] + [col for col in df.columns if col != 'day_of_week']]\n",
    "\n",
    "df = pd.get_dummies(df)\n",
    "\n",
    "df = df[[c for c in df if c not in ['delay_rate']] + ['delay_rate']]\n",
    "\n",
    "df.dropna(axis=0, inplace=True)"
   ]
  },
  {
   "cell_type": "code",
   "execution_count": 22,
   "id": "8dd086cf",
   "metadata": {},
   "outputs": [
    {
     "data": {
      "text/html": [
       "<div>\n",
       "<style scoped>\n",
       "    .dataframe tbody tr th:only-of-type {\n",
       "        vertical-align: middle;\n",
       "    }\n",
       "\n",
       "    .dataframe tbody tr th {\n",
       "        vertical-align: top;\n",
       "    }\n",
       "\n",
       "    .dataframe thead th {\n",
       "        text-align: right;\n",
       "    }\n",
       "</style>\n",
       "<table border=\"1\" class=\"dataframe\">\n",
       "  <thead>\n",
       "    <tr style=\"text-align: right;\">\n",
       "      <th></th>\n",
       "      <th>precip</th>\n",
       "      <th>temp</th>\n",
       "      <th>dewp</th>\n",
       "      <th>relh</th>\n",
       "      <th>wind_dir</th>\n",
       "      <th>wind_speed</th>\n",
       "      <th>pressure</th>\n",
       "      <th>visib</th>\n",
       "      <th>day_of_week_Friday</th>\n",
       "      <th>day_of_week_Monday</th>\n",
       "      <th>...</th>\n",
       "      <th>origin_CLT</th>\n",
       "      <th>origin_DEN</th>\n",
       "      <th>origin_DFW</th>\n",
       "      <th>origin_JFK</th>\n",
       "      <th>origin_LAS</th>\n",
       "      <th>origin_LAX</th>\n",
       "      <th>origin_ORD</th>\n",
       "      <th>origin_SEA</th>\n",
       "      <th>origin_SFO</th>\n",
       "      <th>delay_rate</th>\n",
       "    </tr>\n",
       "  </thead>\n",
       "  <tbody>\n",
       "    <tr>\n",
       "      <th>0</th>\n",
       "      <td>0.003236</td>\n",
       "      <td>66.204664</td>\n",
       "      <td>49.597155</td>\n",
       "      <td>59.069857</td>\n",
       "      <td>185.057184</td>\n",
       "      <td>8.075590</td>\n",
       "      <td>1014.966172</td>\n",
       "      <td>9.643495</td>\n",
       "      <td>1</td>\n",
       "      <td>0</td>\n",
       "      <td>...</td>\n",
       "      <td>0</td>\n",
       "      <td>0</td>\n",
       "      <td>0</td>\n",
       "      <td>0</td>\n",
       "      <td>0</td>\n",
       "      <td>0</td>\n",
       "      <td>0</td>\n",
       "      <td>0</td>\n",
       "      <td>0</td>\n",
       "      <td>0.188349</td>\n",
       "    </tr>\n",
       "    <tr>\n",
       "      <th>1</th>\n",
       "      <td>0.005346</td>\n",
       "      <td>65.330210</td>\n",
       "      <td>47.199530</td>\n",
       "      <td>56.741844</td>\n",
       "      <td>155.499046</td>\n",
       "      <td>6.666243</td>\n",
       "      <td>1014.672219</td>\n",
       "      <td>9.511125</td>\n",
       "      <td>1</td>\n",
       "      <td>0</td>\n",
       "      <td>...</td>\n",
       "      <td>1</td>\n",
       "      <td>0</td>\n",
       "      <td>0</td>\n",
       "      <td>0</td>\n",
       "      <td>0</td>\n",
       "      <td>0</td>\n",
       "      <td>0</td>\n",
       "      <td>0</td>\n",
       "      <td>0</td>\n",
       "      <td>0.131596</td>\n",
       "    </tr>\n",
       "    <tr>\n",
       "      <th>2</th>\n",
       "      <td>0.006643</td>\n",
       "      <td>47.437707</td>\n",
       "      <td>27.869576</td>\n",
       "      <td>52.530377</td>\n",
       "      <td>165.196327</td>\n",
       "      <td>7.543065</td>\n",
       "      <td>1014.171374</td>\n",
       "      <td>8.056444</td>\n",
       "      <td>1</td>\n",
       "      <td>0</td>\n",
       "      <td>...</td>\n",
       "      <td>0</td>\n",
       "      <td>1</td>\n",
       "      <td>0</td>\n",
       "      <td>0</td>\n",
       "      <td>0</td>\n",
       "      <td>0</td>\n",
       "      <td>0</td>\n",
       "      <td>0</td>\n",
       "      <td>0</td>\n",
       "      <td>0.179861</td>\n",
       "    </tr>\n",
       "    <tr>\n",
       "      <th>3</th>\n",
       "      <td>0.000737</td>\n",
       "      <td>69.632365</td>\n",
       "      <td>47.634047</td>\n",
       "      <td>49.587692</td>\n",
       "      <td>144.121646</td>\n",
       "      <td>8.295886</td>\n",
       "      <td>1014.087549</td>\n",
       "      <td>9.235778</td>\n",
       "      <td>1</td>\n",
       "      <td>0</td>\n",
       "      <td>...</td>\n",
       "      <td>0</td>\n",
       "      <td>0</td>\n",
       "      <td>1</td>\n",
       "      <td>0</td>\n",
       "      <td>0</td>\n",
       "      <td>0</td>\n",
       "      <td>0</td>\n",
       "      <td>0</td>\n",
       "      <td>0</td>\n",
       "      <td>0.200000</td>\n",
       "    </tr>\n",
       "    <tr>\n",
       "      <th>4</th>\n",
       "      <td>0.000429</td>\n",
       "      <td>53.739342</td>\n",
       "      <td>39.822216</td>\n",
       "      <td>62.048449</td>\n",
       "      <td>174.703360</td>\n",
       "      <td>10.609721</td>\n",
       "      <td>1013.767262</td>\n",
       "      <td>9.068799</td>\n",
       "      <td>1</td>\n",
       "      <td>0</td>\n",
       "      <td>...</td>\n",
       "      <td>0</td>\n",
       "      <td>0</td>\n",
       "      <td>0</td>\n",
       "      <td>1</td>\n",
       "      <td>0</td>\n",
       "      <td>0</td>\n",
       "      <td>0</td>\n",
       "      <td>0</td>\n",
       "      <td>0</td>\n",
       "      <td>0.220872</td>\n",
       "    </tr>\n",
       "  </tbody>\n",
       "</table>\n",
       "<p>5 rows × 38 columns</p>\n",
       "</div>"
      ],
      "text/plain": [
       "     precip       temp       dewp       relh    wind_dir  wind_speed  \\\n",
       "0  0.003236  66.204664  49.597155  59.069857  185.057184    8.075590   \n",
       "1  0.005346  65.330210  47.199530  56.741844  155.499046    6.666243   \n",
       "2  0.006643  47.437707  27.869576  52.530377  165.196327    7.543065   \n",
       "3  0.000737  69.632365  47.634047  49.587692  144.121646    8.295886   \n",
       "4  0.000429  53.739342  39.822216  62.048449  174.703360   10.609721   \n",
       "\n",
       "      pressure     visib  day_of_week_Friday  day_of_week_Monday  ...  \\\n",
       "0  1014.966172  9.643495                   1                   0  ...   \n",
       "1  1014.672219  9.511125                   1                   0  ...   \n",
       "2  1014.171374  8.056444                   1                   0  ...   \n",
       "3  1014.087549  9.235778                   1                   0  ...   \n",
       "4  1013.767262  9.068799                   1                   0  ...   \n",
       "\n",
       "   origin_CLT  origin_DEN  origin_DFW  origin_JFK  origin_LAS  origin_LAX  \\\n",
       "0           0           0           0           0           0           0   \n",
       "1           1           0           0           0           0           0   \n",
       "2           0           1           0           0           0           0   \n",
       "3           0           0           1           0           0           0   \n",
       "4           0           0           0           1           0           0   \n",
       "\n",
       "   origin_ORD  origin_SEA  origin_SFO  delay_rate  \n",
       "0           0           0           0    0.188349  \n",
       "1           0           0           0    0.131596  \n",
       "2           0           0           0    0.179861  \n",
       "3           0           0           0    0.200000  \n",
       "4           0           0           0    0.220872  \n",
       "\n",
       "[5 rows x 38 columns]"
      ]
     },
     "execution_count": 22,
     "metadata": {},
     "output_type": "execute_result"
    }
   ],
   "source": [
    "df.head()"
   ]
  },
  {
   "cell_type": "code",
   "execution_count": 23,
   "id": "dbe3b1eb",
   "metadata": {
    "scrolled": true
   },
   "outputs": [
    {
     "data": {
      "text/plain": [
       "(3360, 38)"
      ]
     },
     "execution_count": 23,
     "metadata": {},
     "output_type": "execute_result"
    }
   ],
   "source": [
    "df.shape"
   ]
  },
  {
   "cell_type": "code",
   "execution_count": 24,
   "id": "2a19793b",
   "metadata": {},
   "outputs": [],
   "source": [
    "seed = 6242"
   ]
  },
  {
   "cell_type": "code",
   "execution_count": 25,
   "id": "bc3ccacc",
   "metadata": {},
   "outputs": [],
   "source": [
    "df_train, df_test = train_test_split(df, test_size=0.3, random_state=seed)"
   ]
  },
  {
   "cell_type": "markdown",
   "id": "26cdbb52",
   "metadata": {},
   "source": [
    "### Random Forest"
   ]
  },
  {
   "cell_type": "code",
   "execution_count": 26,
   "id": "7d183645",
   "metadata": {},
   "outputs": [
    {
     "name": "stdout",
     "output_type": "stream",
     "text": [
      "Mean Absolute Error (Baseline): 0.03390136000688167\n",
      "Mean Squared Error (Baseline): 0.0019497426955886312\n",
      "Root Mean Squared Error (Baseline): 0.044155890836768664\n"
     ]
    }
   ],
   "source": [
    "rf_base = RandomForestRegressor(random_state=seed)\n",
    "rf_base.fit(df_train.iloc[:,:-1], df_train.iloc[:,-1])\n",
    "rf_base_preds = rf_base.predict(df_test.iloc[:,:-1])\n",
    "\n",
    "print('Mean Absolute Error (Baseline):', metrics.mean_absolute_error(df_test.iloc[:,-1], rf_base_preds))  \n",
    "print('Mean Squared Error (Baseline):', metrics.mean_squared_error(df_test.iloc[:,-1], rf_base_preds))  \n",
    "print('Root Mean Squared Error (Baseline):', np.sqrt(metrics.mean_squared_error(df_test.iloc[:,-1], rf_base_preds)))"
   ]
  },
  {
   "cell_type": "markdown",
   "id": "89d41f83",
   "metadata": {},
   "source": [
    "#### Random forest hyperparameter tuning"
   ]
  },
  {
   "cell_type": "code",
   "execution_count": 27,
   "id": "0998fd8c",
   "metadata": {},
   "outputs": [
    {
     "data": {
      "text/plain": [
       "[10, 20, 30, 40, 50, 60, 70, 80, 90, 100, None]"
      ]
     },
     "execution_count": 27,
     "metadata": {},
     "output_type": "execute_result"
    }
   ],
   "source": [
    "max_depth = [int(x) for x in np.linspace(10, 100, num = 10)]\n",
    "max_depth.append(None)\n",
    "max_depth"
   ]
  },
  {
   "cell_type": "code",
   "execution_count": 28,
   "id": "20782afb",
   "metadata": {},
   "outputs": [],
   "source": [
    "rf_param_grid = {'n_estimators': [int(x) for x in np.linspace(100, 1000, 20)],\n",
    "               'criterion':['squared_error', 'absolute_error', 'poisson'],\n",
    "               'max_depth': max_depth,\n",
    "               'min_samples_split': [2,4,6,8,10],\n",
    "               'min_samples_leaf': [1, 2, 4, 8],\n",
    "               'max_features': ['auto', 'sqrt', 'log2', None],\n",
    "               'min_samples_split': [2, 5, 10],\n",
    "               'bootstrap': [True, False]}"
   ]
  },
  {
   "cell_type": "code",
   "execution_count": 29,
   "id": "254498bc",
   "metadata": {},
   "outputs": [],
   "source": [
    "rf_est = RandomForestRegressor(random_state=seed)\n",
    "\n",
    "rf_random = RandomizedSearchCV(estimator = rf_est, \n",
    "                         param_distributions = rf_param_grid, \n",
    "                         cv = 10, \n",
    "                         verbose=2, \n",
    "                         random_state=seed, \n",
    "                         n_jobs = -1)"
   ]
  },
  {
   "cell_type": "code",
   "execution_count": 30,
   "id": "61ded880",
   "metadata": {},
   "outputs": [
    {
     "name": "stdout",
     "output_type": "stream",
     "text": [
      "Fitting 10 folds for each of 10 candidates, totalling 100 fits\n"
     ]
    },
    {
     "data": {
      "text/plain": [
       "RandomizedSearchCV(cv=10, estimator=RandomForestRegressor(random_state=6242),\n",
       "                   n_jobs=-1,\n",
       "                   param_distributions={'bootstrap': [True, False],\n",
       "                                        'criterion': ['squared_error',\n",
       "                                                      'absolute_error',\n",
       "                                                      'poisson'],\n",
       "                                        'max_depth': [10, 20, 30, 40, 50, 60,\n",
       "                                                      70, 80, 90, 100, None],\n",
       "                                        'max_features': ['auto', 'sqrt', 'log2',\n",
       "                                                         None],\n",
       "                                        'min_samples_leaf': [1, 2, 4, 8],\n",
       "                                        'min_samples_split': [2, 5, 10],\n",
       "                                        'n_estimators': [100, 147, 194, 242,\n",
       "                                                         289, 336, 384, 431,\n",
       "                                                         478, 526, 573, 621,\n",
       "                                                         668, 715, 763, 810,\n",
       "                                                         857, 905, 952, 1000]},\n",
       "                   random_state=6242, verbose=2)"
      ]
     },
     "execution_count": 30,
     "metadata": {},
     "output_type": "execute_result"
    }
   ],
   "source": [
    "rf_random.fit(df_train.iloc[:,:-1], df_train.iloc[:,-1])"
   ]
  },
  {
   "cell_type": "code",
   "execution_count": 31,
   "id": "f0d2e1b7",
   "metadata": {},
   "outputs": [
    {
     "data": {
      "text/plain": [
       "{'n_estimators': 336,\n",
       " 'min_samples_split': 2,\n",
       " 'min_samples_leaf': 4,\n",
       " 'max_features': 'auto',\n",
       " 'max_depth': 60,\n",
       " 'criterion': 'absolute_error',\n",
       " 'bootstrap': True}"
      ]
     },
     "execution_count": 31,
     "metadata": {},
     "output_type": "execute_result"
    }
   ],
   "source": [
    "rf_random.best_params_"
   ]
  },
  {
   "cell_type": "code",
   "execution_count": 32,
   "id": "8f910d80",
   "metadata": {},
   "outputs": [],
   "source": [
    "rf_tuned_preds = rf_random.predict(df_test.iloc[:,:-1])"
   ]
  },
  {
   "cell_type": "code",
   "execution_count": 33,
   "id": "f7667d1c",
   "metadata": {},
   "outputs": [
    {
     "name": "stdout",
     "output_type": "stream",
     "text": [
      "Mean Absolute Error (Tuned): 0.03440837743947034\n",
      "Mean Squared Error (Tuned): 0.002018949010310467\n",
      "Root Mean Squared Error (Tuned): 0.04493271648042734\n"
     ]
    }
   ],
   "source": [
    "print('Mean Absolute Error (Tuned):', metrics.mean_absolute_error(df_test.iloc[:,-1], rf_tuned_preds))  \n",
    "print('Mean Squared Error (Tuned):', metrics.mean_squared_error(df_test.iloc[:,-1], rf_tuned_preds))  \n",
    "print('Root Mean Squared Error (Tuned):', np.sqrt(metrics.mean_squared_error(df_test.iloc[:,-1], rf_tuned_preds)))"
   ]
  },
  {
   "cell_type": "markdown",
   "id": "7ab8329c",
   "metadata": {},
   "source": [
    "### Histogram-Based Gradient Boosting Regression Tree"
   ]
  },
  {
   "cell_type": "code",
   "execution_count": 34,
   "id": "bc5ef67b",
   "metadata": {},
   "outputs": [
    {
     "name": "stdout",
     "output_type": "stream",
     "text": [
      "Mean Absolute Error (Baseline): 0.03235441939431025\n",
      "Mean Squared Error (Baseline): 0.0017961309593508168\n",
      "Root Mean Squared Error (Baseline): 0.042380785261139475\n"
     ]
    }
   ],
   "source": [
    "gb_base = HistGradientBoostingRegressor(random_state=seed)\n",
    "gb_base.fit(df_train.iloc[:,:-1], df_train.iloc[:,-1])\n",
    "gb_base_preds = gb_base.predict(df_test.iloc[:,:-1])\n",
    "\n",
    "print('Mean Absolute Error (Baseline):', metrics.mean_absolute_error(df_test.iloc[:,-1], gb_base_preds))  \n",
    "print('Mean Squared Error (Baseline):', metrics.mean_squared_error(df_test.iloc[:,-1], gb_base_preds))  \n",
    "print('Root Mean Squared Error (Baseline):', np.sqrt(metrics.mean_squared_error(df_test.iloc[:,-1], gb_base_preds)))"
   ]
  },
  {
   "cell_type": "code",
   "execution_count": 35,
   "id": "adf41d74",
   "metadata": {},
   "outputs": [
    {
     "data": {
      "text/plain": [
       "{'categorical_features': None,\n",
       " 'early_stopping': 'auto',\n",
       " 'l2_regularization': 0.0,\n",
       " 'learning_rate': 0.1,\n",
       " 'loss': 'squared_error',\n",
       " 'max_bins': 255,\n",
       " 'max_depth': None,\n",
       " 'max_iter': 100,\n",
       " 'max_leaf_nodes': 31,\n",
       " 'min_samples_leaf': 20,\n",
       " 'monotonic_cst': None,\n",
       " 'n_iter_no_change': 10,\n",
       " 'random_state': 6242,\n",
       " 'scoring': 'loss',\n",
       " 'tol': 1e-07,\n",
       " 'validation_fraction': 0.1,\n",
       " 'verbose': 0,\n",
       " 'warm_start': False}"
      ]
     },
     "execution_count": 35,
     "metadata": {},
     "output_type": "execute_result"
    }
   ],
   "source": [
    "gb_base.get_params()"
   ]
  },
  {
   "cell_type": "markdown",
   "id": "b7239b9e",
   "metadata": {},
   "source": [
    "### Hist GB Parameter Tuning"
   ]
  },
  {
   "cell_type": "code",
   "execution_count": 36,
   "id": "a3566bae",
   "metadata": {},
   "outputs": [
    {
     "data": {
      "text/plain": [
       "[700, 755, 811, 866, 922, 977, 1033, 1088, 1144, 1200, None]"
      ]
     },
     "execution_count": 36,
     "metadata": {},
     "output_type": "execute_result"
    }
   ],
   "source": [
    "max_depth = [int(x) for x in np.linspace(700, 1200, num = 10)]\n",
    "max_depth.append(None)\n",
    "max_depth"
   ]
  },
  {
   "cell_type": "code",
   "execution_count": 37,
   "id": "ff59f8ff",
   "metadata": {},
   "outputs": [],
   "source": [
    "gb_param_grid = {'loss':['squared_error', 'absolute_error'],\n",
    "                 'learning_rate': [x for x in np.linspace(0.01, 0.4, 5)],\n",
    "                 'max_iter':[int(x) for x in np.linspace(500, 1000, 5)],\n",
    "                 'max_leaf_nodes':[int(x) for x in np.linspace(2, 100, 5)],\n",
    "                 'min_samples_leaf': [5, 6, 7],\n",
    "                 'max_depth': max_depth}"
   ]
  },
  {
   "cell_type": "code",
   "execution_count": 38,
   "id": "a6a436db",
   "metadata": {},
   "outputs": [],
   "source": [
    "gb_est = HistGradientBoostingRegressor(random_state=seed)\n",
    "\n",
    "gb_random = RandomizedSearchCV(estimator = gb_est, \n",
    "                         param_distributions = gb_param_grid, \n",
    "                         cv = 10, \n",
    "                         verbose=2, \n",
    "                         random_state=seed, \n",
    "                         n_jobs = -1)"
   ]
  },
  {
   "cell_type": "code",
   "execution_count": 39,
   "id": "f84c2423",
   "metadata": {},
   "outputs": [
    {
     "name": "stdout",
     "output_type": "stream",
     "text": [
      "Fitting 10 folds for each of 10 candidates, totalling 100 fits\n"
     ]
    },
    {
     "data": {
      "text/plain": [
       "RandomizedSearchCV(cv=10,\n",
       "                   estimator=HistGradientBoostingRegressor(random_state=6242),\n",
       "                   n_jobs=-1,\n",
       "                   param_distributions={'learning_rate': [0.01, 0.1075,\n",
       "                                                          0.20500000000000002,\n",
       "                                                          0.3025, 0.4],\n",
       "                                        'loss': ['squared_error',\n",
       "                                                 'absolute_error'],\n",
       "                                        'max_depth': [700, 755, 811, 866, 922,\n",
       "                                                      977, 1033, 1088, 1144,\n",
       "                                                      1200, None],\n",
       "                                        'max_iter': [500, 625, 750, 875, 1000],\n",
       "                                        'max_leaf_nodes': [2, 26, 51, 75, 100],\n",
       "                                        'min_samples_leaf': [5, 6, 7]},\n",
       "                   random_state=6242, verbose=2)"
      ]
     },
     "execution_count": 39,
     "metadata": {},
     "output_type": "execute_result"
    }
   ],
   "source": [
    "gb_random.fit(df_train.iloc[:,:-1], df_train.iloc[:,-1])"
   ]
  },
  {
   "cell_type": "code",
   "execution_count": 40,
   "id": "d7384d8d",
   "metadata": {},
   "outputs": [
    {
     "data": {
      "text/plain": [
       "{'min_samples_leaf': 5,\n",
       " 'max_leaf_nodes': 26,\n",
       " 'max_iter': 750,\n",
       " 'max_depth': 866,\n",
       " 'loss': 'squared_error',\n",
       " 'learning_rate': 0.01}"
      ]
     },
     "execution_count": 40,
     "metadata": {},
     "output_type": "execute_result"
    }
   ],
   "source": [
    "gb_random.best_params_"
   ]
  },
  {
   "cell_type": "code",
   "execution_count": 41,
   "id": "01b7bc0e",
   "metadata": {},
   "outputs": [],
   "source": [
    "gb_tuned_preds = gb_random.predict(df_test.iloc[:,:-1])"
   ]
  },
  {
   "cell_type": "code",
   "execution_count": 42,
   "id": "9aff7cc7",
   "metadata": {},
   "outputs": [
    {
     "name": "stdout",
     "output_type": "stream",
     "text": [
      "Mean Absolute Error (Tuned): 0.03236206549817091\n",
      "Mean Squared Error (Tuned): 0.0017750462614690723\n",
      "Root Mean Squared Error (Tuned): 0.04213129788493433\n"
     ]
    }
   ],
   "source": [
    "print('Mean Absolute Error (Tuned):', metrics.mean_absolute_error(df_test.iloc[:,-1], gb_tuned_preds))  \n",
    "print('Mean Squared Error (Tuned):', metrics.mean_squared_error(df_test.iloc[:,-1], gb_tuned_preds))  \n",
    "print('Root Mean Squared Error (Tuned):', np.sqrt(metrics.mean_squared_error(df_test.iloc[:,-1], gb_tuned_preds)))"
   ]
  },
  {
   "cell_type": "markdown",
   "id": "d2af9823",
   "metadata": {},
   "source": [
    "### Lasso Regression"
   ]
  },
  {
   "cell_type": "code",
   "execution_count": 43,
   "id": "3770bda2",
   "metadata": {},
   "outputs": [
    {
     "name": "stdout",
     "output_type": "stream",
     "text": [
      "Mean Absolute Error (Baseline): 0.051772984511678846\n",
      "Mean Squared Error (Baseline): 0.004041084803200077\n",
      "Root Mean Squared Error (Baseline): 0.06356952731616052\n"
     ]
    }
   ],
   "source": [
    "ls_base = Lasso(random_state=seed)\n",
    "ls_base.fit(df_train.iloc[:,:-1], df_train.iloc[:,-1])\n",
    "ls_base_preds = ls_base.predict(df_test.iloc[:,:-1])\n",
    "\n",
    "print('Mean Absolute Error (Baseline):', metrics.mean_absolute_error(df_test.iloc[:,-1], ls_base_preds))  \n",
    "print('Mean Squared Error (Baseline):', metrics.mean_squared_error(df_test.iloc[:,-1], ls_base_preds))  \n",
    "print('Root Mean Squared Error (Baseline):', np.sqrt(metrics.mean_squared_error(df_test.iloc[:,-1], ls_base_preds)))"
   ]
  },
  {
   "cell_type": "code",
   "execution_count": 44,
   "id": "d354f355",
   "metadata": {},
   "outputs": [],
   "source": [
    "ls_pipe = Pipeline([(\"Scale\", MinMaxScaler()), (\"ls\", Lasso())])\n",
    "\n",
    "ls_param_grid = {'ls__alpha':np.arange(0.0001,0.99,0.005),\n",
    "                 'ls__tol':[1e-10],\n",
    "                 'ls__max_iter':[10000]\n",
    "                }\n",
    "\n",
    "ls_random = GridSearchCV(estimator = ls_pipe, \n",
    "                         param_grid = ls_param_grid, \n",
    "                         cv = 10, \n",
    "                         verbose=2, \n",
    "                         #random_state=seed, \n",
    "                         n_jobs = -1)"
   ]
  },
  {
   "cell_type": "code",
   "execution_count": 45,
   "id": "8ed73f9d",
   "metadata": {},
   "outputs": [
    {
     "name": "stdout",
     "output_type": "stream",
     "text": [
      "Fitting 10 folds for each of 198 candidates, totalling 1980 fits\n"
     ]
    },
    {
     "data": {
      "text/plain": [
       "GridSearchCV(cv=10,\n",
       "             estimator=Pipeline(steps=[('Scale', MinMaxScaler()),\n",
       "                                       ('ls', Lasso())]),\n",
       "             n_jobs=-1,\n",
       "             param_grid={'ls__alpha': array([1.000e-04, 5.100e-03, 1.010e-02, 1.510e-02, 2.010e-02, 2.510e-02,\n",
       "       3.010e-02, 3.510e-02, 4.010e-02, 4.510e-02, 5.010e-02, 5.510e-02,\n",
       "       6.010e-02, 6.510e-02, 7.010e-02, 7.510e-02, 8.010e-02, 8.510e-02,\n",
       "       9.010e-02, 9.510e-02, 1.001e-01, 1.051e-01, 1....\n",
       "       8.401e-01, 8.451e-01, 8.501e-01, 8.551e-01, 8.601e-01, 8.651e-01,\n",
       "       8.701e-01, 8.751e-01, 8.801e-01, 8.851e-01, 8.901e-01, 8.951e-01,\n",
       "       9.001e-01, 9.051e-01, 9.101e-01, 9.151e-01, 9.201e-01, 9.251e-01,\n",
       "       9.301e-01, 9.351e-01, 9.401e-01, 9.451e-01, 9.501e-01, 9.551e-01,\n",
       "       9.601e-01, 9.651e-01, 9.701e-01, 9.751e-01, 9.801e-01, 9.851e-01]),\n",
       "                         'ls__max_iter': [10000], 'ls__tol': [1e-10]},\n",
       "             verbose=2)"
      ]
     },
     "execution_count": 45,
     "metadata": {},
     "output_type": "execute_result"
    }
   ],
   "source": [
    "ls_random.fit(df_train.iloc[:,:-1], df_train.iloc[:,-1])"
   ]
  },
  {
   "cell_type": "code",
   "execution_count": 46,
   "id": "31d26e04",
   "metadata": {},
   "outputs": [
    {
     "data": {
      "text/plain": [
       "{'ls__alpha': 0.0001, 'ls__max_iter': 10000, 'ls__tol': 1e-10}"
      ]
     },
     "execution_count": 46,
     "metadata": {},
     "output_type": "execute_result"
    }
   ],
   "source": [
    "ls_random.best_params_"
   ]
  },
  {
   "cell_type": "code",
   "execution_count": 47,
   "id": "95b3d554",
   "metadata": {},
   "outputs": [],
   "source": [
    "ls_tuned_preds = ls_random.predict(df_test.iloc[:,:-1])"
   ]
  },
  {
   "cell_type": "code",
   "execution_count": 48,
   "id": "7c819a48",
   "metadata": {},
   "outputs": [
    {
     "name": "stdout",
     "output_type": "stream",
     "text": [
      "Mean Absolute Error (Tuned): 0.03584562768574724\n",
      "Mean Squared Error (Tuned): 0.0021100086775051\n",
      "Root Mean Squared Error (Tuned): 0.045934830766043974\n"
     ]
    }
   ],
   "source": [
    "print('Mean Absolute Error (Tuned):', metrics.mean_absolute_error(df_test.iloc[:,-1], ls_tuned_preds))  \n",
    "print('Mean Squared Error (Tuned):', metrics.mean_squared_error(df_test.iloc[:,-1], ls_tuned_preds))  \n",
    "print('Root Mean Squared Error (Tuned):', np.sqrt(metrics.mean_squared_error(df_test.iloc[:,-1], ls_tuned_preds)))"
   ]
  },
  {
   "cell_type": "markdown",
   "id": "9b0806d9",
   "metadata": {},
   "source": [
    "### Stacking Predictors\n"
   ]
  },
  {
   "cell_type": "code",
   "execution_count": 49,
   "id": "1bb0ae82",
   "metadata": {},
   "outputs": [],
   "source": [
    "rf_best = rf_random.best_params_\n",
    "rf_model = RandomForestRegressor(**rf_best, random_state=seed)\n",
    "\n",
    "gb_best = gb_random.best_params_\n",
    "gb_model = HistGradientBoostingRegressor(**gb_best, random_state=seed)\n",
    "\n",
    "ls_best = ls_random.best_params_\n",
    "#ls_model = Lasso(alpha=0.1, random_state=seed)\n",
    "\n",
    "ls_model = Pipeline([(\"Scale\", StandardScaler()), (\"ls\", Lasso(alpha=0.0001))])\n",
    "\n",
    "estimators = [('Random Forest', rf_model),\n",
    "              ('Gradient Boosting', gb_model),\n",
    "              ('Lasso', ls_model)]\n",
    "\n",
    "stacking = StackingRegressor(estimators = estimators, final_estimator=RidgeCV())"
   ]
  },
  {
   "cell_type": "code",
   "execution_count": 50,
   "id": "0d22c330",
   "metadata": {},
   "outputs": [
    {
     "data": {
      "text/plain": [
       "StackingRegressor(estimators=[('Random Forest',\n",
       "                               RandomForestRegressor(criterion='absolute_error',\n",
       "                                                     max_depth=60,\n",
       "                                                     min_samples_leaf=4,\n",
       "                                                     n_estimators=336,\n",
       "                                                     random_state=6242)),\n",
       "                              ('Gradient Boosting',\n",
       "                               HistGradientBoostingRegressor(learning_rate=0.01,\n",
       "                                                             max_depth=866,\n",
       "                                                             max_iter=750,\n",
       "                                                             max_leaf_nodes=26,\n",
       "                                                             min_samples_leaf=5,\n",
       "                                                             random_state=6242)),\n",
       "                              ('Lasso',\n",
       "                               Pipeline(steps=[('Scale', StandardScaler()),\n",
       "                                               ('ls', Lasso(alpha=0.0001))]))],\n",
       "                  final_estimator=RidgeCV(alphas=array([ 0.1,  1. , 10. ])))"
      ]
     },
     "execution_count": 50,
     "metadata": {},
     "output_type": "execute_result"
    }
   ],
   "source": [
    "stacking.fit(df_train.iloc[:,:-1], df_train.iloc[:,-1])"
   ]
  },
  {
   "cell_type": "code",
   "execution_count": 51,
   "id": "8f9e0028",
   "metadata": {},
   "outputs": [],
   "source": [
    "s_preds = stacking.predict(df_test.iloc[:,:-1])"
   ]
  },
  {
   "cell_type": "code",
   "execution_count": 52,
   "id": "90fdd7d4",
   "metadata": {},
   "outputs": [
    {
     "name": "stdout",
     "output_type": "stream",
     "text": [
      "Mean Absolute Error (Tuned): 0.03245729155645038\n",
      "Mean Squared Error (Tuned): 0.001774398286699788\n",
      "Root Mean Squared Error (Tuned): 0.042123607237507424\n"
     ]
    }
   ],
   "source": [
    "print('Mean Absolute Error (Tuned):', metrics.mean_absolute_error(df_test.iloc[:,-1], s_preds))  \n",
    "print('Mean Squared Error (Tuned):', metrics.mean_squared_error(df_test.iloc[:,-1], s_preds))  \n",
    "print('Root Mean Squared Error (Tuned):', np.sqrt(metrics.mean_squared_error(df_test.iloc[:,-1], s_preds)))"
   ]
  },
  {
   "cell_type": "markdown",
   "id": "246fd56c",
   "metadata": {},
   "source": [
    "### Results: \n",
    "\n",
    "switch out s_preds here with rf_tuned_preds/gb_tuned_preds/ls_tuned_preds/s_preds to visualize different models\n",
    "\n",
    "ideally the results would be as close to the dotted line as possible, appears all methods are overpredicting low values and underpredicting high values to some extent"
   ]
  },
  {
   "cell_type": "code",
   "execution_count": 54,
   "id": "2e7d377b",
   "metadata": {},
   "outputs": [],
   "source": [
    "df_test_p = df_test.copy()"
   ]
  },
  {
   "cell_type": "code",
   "execution_count": 55,
   "id": "302fa312",
   "metadata": {},
   "outputs": [
    {
     "data": {
      "text/html": [
       "<div>\n",
       "<style scoped>\n",
       "    .dataframe tbody tr th:only-of-type {\n",
       "        vertical-align: middle;\n",
       "    }\n",
       "\n",
       "    .dataframe tbody tr th {\n",
       "        vertical-align: top;\n",
       "    }\n",
       "\n",
       "    .dataframe thead th {\n",
       "        text-align: right;\n",
       "    }\n",
       "</style>\n",
       "<table border=\"1\" class=\"dataframe\">\n",
       "  <thead>\n",
       "    <tr style=\"text-align: right;\">\n",
       "      <th></th>\n",
       "      <th>precip</th>\n",
       "      <th>temp</th>\n",
       "      <th>dewp</th>\n",
       "      <th>relh</th>\n",
       "      <th>wind_dir</th>\n",
       "      <th>wind_speed</th>\n",
       "      <th>pressure</th>\n",
       "      <th>visib</th>\n",
       "      <th>day_of_week_Friday</th>\n",
       "      <th>day_of_week_Monday</th>\n",
       "      <th>...</th>\n",
       "      <th>origin_CLT</th>\n",
       "      <th>origin_DEN</th>\n",
       "      <th>origin_DFW</th>\n",
       "      <th>origin_JFK</th>\n",
       "      <th>origin_LAS</th>\n",
       "      <th>origin_LAX</th>\n",
       "      <th>origin_ORD</th>\n",
       "      <th>origin_SEA</th>\n",
       "      <th>origin_SFO</th>\n",
       "      <th>delay_rate</th>\n",
       "    </tr>\n",
       "  </thead>\n",
       "  <tbody>\n",
       "    <tr>\n",
       "      <th>0</th>\n",
       "      <td>0.001589</td>\n",
       "      <td>53.973333</td>\n",
       "      <td>46.702917</td>\n",
       "      <td>76.899422</td>\n",
       "      <td>103.526042</td>\n",
       "      <td>7.221875</td>\n",
       "      <td>1020.066250</td>\n",
       "      <td>9.659896</td>\n",
       "      <td>0</td>\n",
       "      <td>0</td>\n",
       "      <td>...</td>\n",
       "      <td>0</td>\n",
       "      <td>0</td>\n",
       "      <td>0</td>\n",
       "      <td>0</td>\n",
       "      <td>0</td>\n",
       "      <td>0</td>\n",
       "      <td>0</td>\n",
       "      <td>0</td>\n",
       "      <td>1</td>\n",
       "      <td>0.210417</td>\n",
       "    </tr>\n",
       "    <tr>\n",
       "      <th>1</th>\n",
       "      <td>0.000000</td>\n",
       "      <td>92.288903</td>\n",
       "      <td>29.119916</td>\n",
       "      <td>11.447207</td>\n",
       "      <td>129.485232</td>\n",
       "      <td>6.364557</td>\n",
       "      <td>1006.211857</td>\n",
       "      <td>10.000000</td>\n",
       "      <td>1</td>\n",
       "      <td>0</td>\n",
       "      <td>...</td>\n",
       "      <td>0</td>\n",
       "      <td>0</td>\n",
       "      <td>0</td>\n",
       "      <td>0</td>\n",
       "      <td>1</td>\n",
       "      <td>0</td>\n",
       "      <td>0</td>\n",
       "      <td>0</td>\n",
       "      <td>0</td>\n",
       "      <td>0.227004</td>\n",
       "    </tr>\n",
       "    <tr>\n",
       "      <th>2</th>\n",
       "      <td>0.001502</td>\n",
       "      <td>33.298743</td>\n",
       "      <td>25.747829</td>\n",
       "      <td>75.030245</td>\n",
       "      <td>198.058222</td>\n",
       "      <td>7.818210</td>\n",
       "      <td>1014.075751</td>\n",
       "      <td>8.663363</td>\n",
       "      <td>0</td>\n",
       "      <td>1</td>\n",
       "      <td>...</td>\n",
       "      <td>0</td>\n",
       "      <td>0</td>\n",
       "      <td>0</td>\n",
       "      <td>0</td>\n",
       "      <td>0</td>\n",
       "      <td>0</td>\n",
       "      <td>1</td>\n",
       "      <td>0</td>\n",
       "      <td>0</td>\n",
       "      <td>0.244967</td>\n",
       "    </tr>\n",
       "    <tr>\n",
       "      <th>3</th>\n",
       "      <td>0.000352</td>\n",
       "      <td>45.207047</td>\n",
       "      <td>32.368408</td>\n",
       "      <td>65.535541</td>\n",
       "      <td>214.908870</td>\n",
       "      <td>7.452612</td>\n",
       "      <td>1023.598603</td>\n",
       "      <td>7.608900</td>\n",
       "      <td>0</td>\n",
       "      <td>0</td>\n",
       "      <td>...</td>\n",
       "      <td>0</td>\n",
       "      <td>0</td>\n",
       "      <td>1</td>\n",
       "      <td>0</td>\n",
       "      <td>0</td>\n",
       "      <td>0</td>\n",
       "      <td>0</td>\n",
       "      <td>0</td>\n",
       "      <td>0</td>\n",
       "      <td>0.224180</td>\n",
       "    </tr>\n",
       "    <tr>\n",
       "      <th>4</th>\n",
       "      <td>0.020845</td>\n",
       "      <td>54.987475</td>\n",
       "      <td>43.464919</td>\n",
       "      <td>66.735652</td>\n",
       "      <td>193.360489</td>\n",
       "      <td>9.146640</td>\n",
       "      <td>1018.074287</td>\n",
       "      <td>9.311864</td>\n",
       "      <td>0</td>\n",
       "      <td>0</td>\n",
       "      <td>...</td>\n",
       "      <td>0</td>\n",
       "      <td>0</td>\n",
       "      <td>0</td>\n",
       "      <td>0</td>\n",
       "      <td>0</td>\n",
       "      <td>1</td>\n",
       "      <td>0</td>\n",
       "      <td>0</td>\n",
       "      <td>0</td>\n",
       "      <td>0.192974</td>\n",
       "    </tr>\n",
       "  </tbody>\n",
       "</table>\n",
       "<p>5 rows × 38 columns</p>\n",
       "</div>"
      ],
      "text/plain": [
       "     precip       temp       dewp       relh    wind_dir  wind_speed  \\\n",
       "0  0.001589  53.973333  46.702917  76.899422  103.526042    7.221875   \n",
       "1  0.000000  92.288903  29.119916  11.447207  129.485232    6.364557   \n",
       "2  0.001502  33.298743  25.747829  75.030245  198.058222    7.818210   \n",
       "3  0.000352  45.207047  32.368408  65.535541  214.908870    7.452612   \n",
       "4  0.020845  54.987475  43.464919  66.735652  193.360489    9.146640   \n",
       "\n",
       "      pressure      visib  day_of_week_Friday  day_of_week_Monday  ...  \\\n",
       "0  1020.066250   9.659896                   0                   0  ...   \n",
       "1  1006.211857  10.000000                   1                   0  ...   \n",
       "2  1014.075751   8.663363                   0                   1  ...   \n",
       "3  1023.598603   7.608900                   0                   0  ...   \n",
       "4  1018.074287   9.311864                   0                   0  ...   \n",
       "\n",
       "   origin_CLT  origin_DEN  origin_DFW  origin_JFK  origin_LAS  origin_LAX  \\\n",
       "0           0           0           0           0           0           0   \n",
       "1           0           0           0           0           1           0   \n",
       "2           0           0           0           0           0           0   \n",
       "3           0           0           1           0           0           0   \n",
       "4           0           0           0           0           0           1   \n",
       "\n",
       "   origin_ORD  origin_SEA  origin_SFO  delay_rate  \n",
       "0           0           0           1    0.210417  \n",
       "1           0           0           0    0.227004  \n",
       "2           1           0           0    0.244967  \n",
       "3           0           0           0    0.224180  \n",
       "4           0           0           0    0.192974  \n",
       "\n",
       "[5 rows x 38 columns]"
      ]
     },
     "execution_count": 55,
     "metadata": {},
     "output_type": "execute_result"
    }
   ],
   "source": [
    "df_test_p.reset_index(inplace=True, drop=True)\n",
    "\n",
    "df_test_p.head()"
   ]
  },
  {
   "cell_type": "code",
   "execution_count": 56,
   "id": "f1b22d58",
   "metadata": {},
   "outputs": [],
   "source": [
    "preds = np.array([rf_tuned_preds, gb_tuned_preds, ls_tuned_preds, s_preds]).T\n",
    "\n",
    "df_preds = pd.DataFrame(preds, columns=['Random Forest', 'Histgram Based Gradient Boosting', 'Lasso', 'Stacked Model'])"
   ]
  },
  {
   "cell_type": "code",
   "execution_count": 57,
   "id": "ebadd014",
   "metadata": {},
   "outputs": [
    {
     "data": {
      "text/html": [
       "<div>\n",
       "<style scoped>\n",
       "    .dataframe tbody tr th:only-of-type {\n",
       "        vertical-align: middle;\n",
       "    }\n",
       "\n",
       "    .dataframe tbody tr th {\n",
       "        vertical-align: top;\n",
       "    }\n",
       "\n",
       "    .dataframe thead th {\n",
       "        text-align: right;\n",
       "    }\n",
       "</style>\n",
       "<table border=\"1\" class=\"dataframe\">\n",
       "  <thead>\n",
       "    <tr style=\"text-align: right;\">\n",
       "      <th></th>\n",
       "      <th>Random Forest</th>\n",
       "      <th>Histgram Based Gradient Boosting</th>\n",
       "      <th>Lasso</th>\n",
       "      <th>Stacked Model</th>\n",
       "      <th>Actuals</th>\n",
       "    </tr>\n",
       "  </thead>\n",
       "  <tbody>\n",
       "    <tr>\n",
       "      <th>0</th>\n",
       "      <td>0.192365</td>\n",
       "      <td>0.205821</td>\n",
       "      <td>0.205825</td>\n",
       "      <td>0.205792</td>\n",
       "      <td>0.210417</td>\n",
       "    </tr>\n",
       "    <tr>\n",
       "      <th>1</th>\n",
       "      <td>0.221024</td>\n",
       "      <td>0.236003</td>\n",
       "      <td>0.257757</td>\n",
       "      <td>0.246501</td>\n",
       "      <td>0.227004</td>\n",
       "    </tr>\n",
       "    <tr>\n",
       "      <th>2</th>\n",
       "      <td>0.206442</td>\n",
       "      <td>0.201223</td>\n",
       "      <td>0.203465</td>\n",
       "      <td>0.203723</td>\n",
       "      <td>0.244967</td>\n",
       "    </tr>\n",
       "    <tr>\n",
       "      <th>3</th>\n",
       "      <td>0.177766</td>\n",
       "      <td>0.166809</td>\n",
       "      <td>0.187560</td>\n",
       "      <td>0.173726</td>\n",
       "      <td>0.224180</td>\n",
       "    </tr>\n",
       "    <tr>\n",
       "      <th>4</th>\n",
       "      <td>0.216467</td>\n",
       "      <td>0.255298</td>\n",
       "      <td>0.207721</td>\n",
       "      <td>0.238738</td>\n",
       "      <td>0.192974</td>\n",
       "    </tr>\n",
       "  </tbody>\n",
       "</table>\n",
       "</div>"
      ],
      "text/plain": [
       "   Random Forest  Histgram Based Gradient Boosting     Lasso  Stacked Model  \\\n",
       "0       0.192365                          0.205821  0.205825       0.205792   \n",
       "1       0.221024                          0.236003  0.257757       0.246501   \n",
       "2       0.206442                          0.201223  0.203465       0.203723   \n",
       "3       0.177766                          0.166809  0.187560       0.173726   \n",
       "4       0.216467                          0.255298  0.207721       0.238738   \n",
       "\n",
       "    Actuals  \n",
       "0  0.210417  \n",
       "1  0.227004  \n",
       "2  0.244967  \n",
       "3  0.224180  \n",
       "4  0.192974  "
      ]
     },
     "execution_count": 57,
     "metadata": {},
     "output_type": "execute_result"
    }
   ],
   "source": [
    "df_preds['Actuals'] = df_test_p.iloc[:,-1]\n",
    "df_preds.head()"
   ]
  },
  {
   "cell_type": "code",
   "execution_count": 58,
   "id": "fd2a4743",
   "metadata": {},
   "outputs": [
    {
     "data": {
      "text/html": [
       "<div>\n",
       "<style scoped>\n",
       "    .dataframe tbody tr th:only-of-type {\n",
       "        vertical-align: middle;\n",
       "    }\n",
       "\n",
       "    .dataframe tbody tr th {\n",
       "        vertical-align: top;\n",
       "    }\n",
       "\n",
       "    .dataframe thead th {\n",
       "        text-align: right;\n",
       "    }\n",
       "</style>\n",
       "<table border=\"1\" class=\"dataframe\">\n",
       "  <thead>\n",
       "    <tr style=\"text-align: right;\">\n",
       "      <th></th>\n",
       "      <th>Random Forest</th>\n",
       "      <th>Histgram Based Gradient Boosting</th>\n",
       "      <th>Lasso</th>\n",
       "      <th>Stacked Model</th>\n",
       "      <th>Actuals</th>\n",
       "    </tr>\n",
       "  </thead>\n",
       "  <tbody>\n",
       "    <tr>\n",
       "      <th>984</th>\n",
       "      <td>0.040120</td>\n",
       "      <td>0.025612</td>\n",
       "      <td>0.017666</td>\n",
       "      <td>0.018123</td>\n",
       "      <td>0.0</td>\n",
       "    </tr>\n",
       "    <tr>\n",
       "      <th>215</th>\n",
       "      <td>0.037898</td>\n",
       "      <td>0.019013</td>\n",
       "      <td>0.071765</td>\n",
       "      <td>0.034718</td>\n",
       "      <td>0.0</td>\n",
       "    </tr>\n",
       "    <tr>\n",
       "      <th>535</th>\n",
       "      <td>-0.001340</td>\n",
       "      <td>-0.017364</td>\n",
       "      <td>0.007060</td>\n",
       "      <td>-0.007207</td>\n",
       "      <td>0.0</td>\n",
       "    </tr>\n",
       "    <tr>\n",
       "      <th>200</th>\n",
       "      <td>-0.000464</td>\n",
       "      <td>0.013877</td>\n",
       "      <td>0.006027</td>\n",
       "      <td>0.024924</td>\n",
       "      <td>0.0</td>\n",
       "    </tr>\n",
       "    <tr>\n",
       "      <th>872</th>\n",
       "      <td>-0.008298</td>\n",
       "      <td>-0.015787</td>\n",
       "      <td>-0.022706</td>\n",
       "      <td>-0.023617</td>\n",
       "      <td>0.0</td>\n",
       "    </tr>\n",
       "    <tr>\n",
       "      <th>435</th>\n",
       "      <td>-0.042065</td>\n",
       "      <td>-0.033146</td>\n",
       "      <td>-0.039227</td>\n",
       "      <td>-0.040081</td>\n",
       "      <td>0.0</td>\n",
       "    </tr>\n",
       "    <tr>\n",
       "      <th>708</th>\n",
       "      <td>-0.015568</td>\n",
       "      <td>-0.001975</td>\n",
       "      <td>0.041784</td>\n",
       "      <td>0.017659</td>\n",
       "      <td>0.0</td>\n",
       "    </tr>\n",
       "    <tr>\n",
       "      <th>802</th>\n",
       "      <td>0.000584</td>\n",
       "      <td>-0.011733</td>\n",
       "      <td>-0.000107</td>\n",
       "      <td>-0.009095</td>\n",
       "      <td>0.0</td>\n",
       "    </tr>\n",
       "    <tr>\n",
       "      <th>240</th>\n",
       "      <td>-0.052476</td>\n",
       "      <td>-0.040763</td>\n",
       "      <td>-0.050048</td>\n",
       "      <td>-0.042758</td>\n",
       "      <td>0.0</td>\n",
       "    </tr>\n",
       "    <tr>\n",
       "      <th>269</th>\n",
       "      <td>0.040671</td>\n",
       "      <td>0.037837</td>\n",
       "      <td>0.052911</td>\n",
       "      <td>0.046080</td>\n",
       "      <td>0.0</td>\n",
       "    </tr>\n",
       "  </tbody>\n",
       "</table>\n",
       "</div>"
      ],
      "text/plain": [
       "     Random Forest  Histgram Based Gradient Boosting     Lasso  Stacked Model  \\\n",
       "984       0.040120                          0.025612  0.017666       0.018123   \n",
       "215       0.037898                          0.019013  0.071765       0.034718   \n",
       "535      -0.001340                         -0.017364  0.007060      -0.007207   \n",
       "200      -0.000464                          0.013877  0.006027       0.024924   \n",
       "872      -0.008298                         -0.015787 -0.022706      -0.023617   \n",
       "435      -0.042065                         -0.033146 -0.039227      -0.040081   \n",
       "708      -0.015568                         -0.001975  0.041784       0.017659   \n",
       "802       0.000584                         -0.011733 -0.000107      -0.009095   \n",
       "240      -0.052476                         -0.040763 -0.050048      -0.042758   \n",
       "269       0.040671                          0.037837  0.052911       0.046080   \n",
       "\n",
       "     Actuals  \n",
       "984      0.0  \n",
       "215      0.0  \n",
       "535      0.0  \n",
       "200      0.0  \n",
       "872      0.0  \n",
       "435      0.0  \n",
       "708      0.0  \n",
       "802      0.0  \n",
       "240      0.0  \n",
       "269      0.0  "
      ]
     },
     "execution_count": 58,
     "metadata": {},
     "output_type": "execute_result"
    }
   ],
   "source": [
    "for column in df_preds.columns:\n",
    "    df_preds[column] = df_preds.loc[:, column] - df_preds.loc[:, 'Actuals']\n",
    "\n",
    "df_preds.sample(10)"
   ]
  },
  {
   "cell_type": "code",
   "execution_count": 62,
   "id": "7b30704a",
   "metadata": {},
   "outputs": [
    {
     "data": {
      "image/png": "[encoded data removed]",
      "text/plain": [
       "<Figure size 1080x504 with 1 Axes>"
      ]
     },
     "metadata": {
      "needs_background": "light"
     },
     "output_type": "display_data"
    }
   ],
   "source": [
    "rf_res = df_preds.iloc[:,0]\n",
    "gb_res = df_preds.iloc[:,1]\n",
    "ls_res = df_preds.iloc[:,2]\n",
    "st_res = df_preds.iloc[:,3]\n",
    "\n",
    "columns = [rf_res, gb_res, ls_res, st_res]\n",
    "\n",
    "colors = [\"#003057\",\"#003057\",\"#003057\",\"#003057\"]\n",
    "\n",
    "plt.figure(figsize=(15,7))\n",
    "\n",
    "#fig, ax = plt.subplots()\n",
    "plt.boxplot(columns, notch=True, patch_artist=True)\n",
    "plt.xticks([1,2,3,4], ['Random\\nForest', 'Histogram Based\\nGradient\\nBoosting', 'Lasso', 'Stacked\\nEnsemble\\nwith Ridge'], rotation=0, fontsize=20)\n",
    "plt.yticks(fontsize=16)\n",
    "plt.ylabel('Residuals', fontsize=20)\n",
    "plt.title('Test Residuals: 2016 - 2019 Data', fontsize=22, fontweight='bold')\n",
    "\n",
    "plt.show()\n"
   ]
  },
  {
   "cell_type": "markdown",
   "id": "db9e2603",
   "metadata": {},
   "source": [
    "### Feature Importance: Tuned Hist GB "
   ]
  },
  {
   "cell_type": "code",
   "execution_count": 144,
   "id": "523efe21",
   "metadata": {},
   "outputs": [],
   "source": [
    "importances = permutation_importance(gb_random.best_estimator_, df_test.iloc[:,:-1], df_test.iloc[:,-1], n_repeats =100, random_state=seed, n_jobs=-1)\n",
    "\n",
    "sorted_importances_idx = importances.importances_mean.argsort()\n",
    "importances = pd.DataFrame(\n",
    "    importances.importances[sorted_importances_idx].T,\n",
    "    columns=df_test.columns[sorted_importances_idx],\n",
    ")"
   ]
  },
  {
   "cell_type": "code",
   "execution_count": 145,
   "id": "a468824f",
   "metadata": {},
   "outputs": [],
   "source": [
    "importances = importances[['relh','wind_dir','wind_speed','visib','dewp','temp','pressure','precip']]\n",
    "importances = importances.rename(columns={'wind_dir': 'Wind Direction', 'dewp':'Dew Point', 'relh':'Relative Humidity', 'wind_speed':'Wind Speed',  'pressure':'Pressure', 'visib':'Visibility', 'precip':'Precipitation', 'temp':'Temperature'})"
   ]
  },
  {
   "cell_type": "code",
   "execution_count": 146,
   "id": "2db61a4d",
   "metadata": {},
   "outputs": [
    {
     "data": {
      "image/png": "[encoded data removed]",
      "text/plain": [
       "<Figure size 720x360 with 1 Axes>"
      ]
     },
     "metadata": {
      "needs_background": "light"
     },
     "output_type": "display_data"
    }
   ],
   "source": [
    "fig, ax = plt.subplots(figsize=(10, 5))\n",
    "importances.plot.box(ax=ax, vert=False, whis=10, notch=True, patch_artist=True)\n",
    "ax.set_title(\"Permutation Importances (test set)\", fontsize=20, fontweight=\"bold\")\n",
    "ax.axvline(x=0, color=\"k\", linestyle=\"--\")\n",
    "ax.set_xlabel(\"Decrease in accuracy score\", fontsize=18, fontweight='bold')\n",
    "plt.xticks(fontsize=14)\n",
    "plt.yticks(fontsize=14, fontweight='bold')\n",
    "ax.figure.tight_layout()"
   ]
  },
  {
   "cell_type": "markdown",
   "id": "a20598b9",
   "metadata": {},
   "source": [
    "### Whichever model we end up using dump to pickle file below"
   ]
  },
  {
   "cell_type": "code",
   "execution_count": null,
   "id": "e4b6332d",
   "metadata": {},
   "outputs": [],
   "source": [
    "joblib.dump(rf_random,'artifacts/rf_model.pkl')"
   ]
  },
  {
   "cell_type": "code",
   "execution_count": null,
   "id": "2136c324",
   "metadata": {},
   "outputs": [],
   "source": [
    "joblib.dump(ls_random,'artifacts/ls_model.pkl')"
   ]
  },
  {
   "cell_type": "code",
   "execution_count": null,
   "id": "a68ecbc7",
   "metadata": {},
   "outputs": [],
   "source": [
    "joblib.dump(gb_random,'artifacts/gb_model.pkl')"
   ]
  },
  {
   "cell_type": "code",
   "execution_count": null,
   "id": "6fbe3794",
   "metadata": {},
   "outputs": [],
   "source": [
    "joblib.dump(stacking,'artifacts/stacking_model.pkl')"
   ]
  },
  {
   "cell_type": "markdown",
   "id": "a49bc493",
   "metadata": {},
   "source": [
    "#### Example prediction from stored pickle files"
   ]
  },
  {
   "cell_type": "code",
   "execution_count": null,
   "id": "9cd90e89",
   "metadata": {},
   "outputs": [],
   "source": [
    "test_model = joblib.load('artifacts/gb_model.pkl')"
   ]
  },
  {
   "cell_type": "code",
   "execution_count": null,
   "id": "573adbe0",
   "metadata": {},
   "outputs": [],
   "source": [
    "test_obs = np.array(df_test.iloc[1,:-1]).reshape(1, -1)"
   ]
  },
  {
   "cell_type": "code",
   "execution_count": null,
   "id": "e4aa24fc",
   "metadata": {},
   "outputs": [
    {
     "name": "stderr",
     "output_type": "stream",
     "text": [
      "c:\\Users\\sasch\\anaconda3\\lib\\site-packages\\sklearn\\base.py:450: UserWarning: X does not have valid feature names, but HistGradientBoostingRegressor was fitted with feature names\n",
      "  warnings.warn(\n"
     ]
    },
    {
     "data": {
      "text/plain": [
       "array([0.23600334])"
      ]
     },
     "execution_count": 65,
     "metadata": {},
     "output_type": "execute_result"
    }
   ],
   "source": [
    "test_model.predict(test_obs)"
   ]
  }
 ],
 "metadata": {
  "kernelspec": {
   "display_name": "Python 3.9.12 ('base')",
   "language": "python",
   "name": "python3"
  },
  "language_info": {
   "codemirror_mode": {
    "name": "ipython",
    "version": 3
   },
   "file_extension": ".py",
   "mimetype": "text/x-python",
   "name": "python",
   "nbconvert_exporter": "python",
   "pygments_lexer": "ipython3",
   "version": "3.9.12"
  },
  "vscode": {
   "interpreter": {
    "hash": "e830309212b01546002bfe37a439f3dfcc7e7180a48298a2da31166110b07032"
   }
  }
 },
 "nbformat": 4,
 "nbformat_minor": 5
}
